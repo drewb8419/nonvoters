{
 "cells": [
  {
   "cell_type": "markdown",
   "id": "bridal-virus",
   "metadata": {},
   "source": [
    "# 3 Pre-Processing<a id='3_Pre-Processing'></a>"
   ]
  },
  {
   "cell_type": "markdown",
   "id": "statistical-september",
   "metadata": {},
   "source": [
    "## 3.1 Contents<a id='3.1_Contents'></a>\n",
    "* [3 Pre-Processing](#3_Pre-Processing)\n",
    "  * [3.1 Contents](#3.1_Contents)\n",
    "  * [3.2 Introduction](#3.2_Introduction)\n",
    "  * [3.3 Imports](#3.3_Imports)\n",
    "  * [3.4 Load Data](#3.4_Load_Data)\n",
    "  * [3.5 Drop Unused Columns](#3.5_DropColumns)\n",
    "  * [3.6 Create Age Categories](#3.6_age_categories)  \n",
    "  * [3.7 Make Dummy Variables](#3.7_MakeDummies)\n",
    "  * [3.8 Train/Test Split](#3.8_Train/Test_Split)"
   ]
  },
  {
   "cell_type": "markdown",
   "id": "statewide-intake",
   "metadata": {},
   "source": [
    "## 3.2 Introduction<a id='3.1_Contents'></a>"
   ]
  },
  {
   "cell_type": "markdown",
   "id": "dated-parliament",
   "metadata": {},
   "source": [
    "This notebook provides code to load data from a previous notebook (data wrangling) and (1) drop columns not used in modeling (2) create age categories from ages (3) create dummy variables from all columns including target variable (4) split data into train and test sets.\n",
    "\n",
    "Note that since all variables are categorical and turned into dummy variables all values are 0 or 1. Therefore, there is no need for scaling values."
   ]
  },
  {
   "cell_type": "markdown",
   "id": "equipped-pointer",
   "metadata": {},
   "source": [
    "## 3.3 Imports<a id='3.3_Imports'></a>"
   ]
  },
  {
   "cell_type": "code",
   "execution_count": 1,
   "id": "rural-surface",
   "metadata": {},
   "outputs": [],
   "source": [
    "import pandas as pd\n",
    "import matplotlib.pyplot as plt\n",
    "import numpy as np\n",
    "import seaborn as sns\n",
    "import random"
   ]
  },
  {
   "cell_type": "markdown",
   "id": "emotional-norfolk",
   "metadata": {},
   "source": [
    "## 3.4 Load Data<a id='3.4_Load_Data'></a>"
   ]
  },
  {
   "cell_type": "code",
   "execution_count": 2,
   "id": "exotic-novel",
   "metadata": {},
   "outputs": [],
   "source": [
    "df = pd.read_csv('nonvoters2_wrangled.csv')"
   ]
  },
  {
   "cell_type": "code",
   "execution_count": 3,
   "id": "daily-alias",
   "metadata": {},
   "outputs": [
    {
     "name": "stdout",
     "output_type": "stream",
     "text": [
      "<class 'pandas.core.frame.DataFrame'>\n",
      "RangeIndex: 5836 entries, 0 to 5835\n",
      "Columns: 119 entries, Unnamed: 0 to voter_category\n",
      "dtypes: float64(23), int64(91), object(5)\n",
      "memory usage: 5.3+ MB\n"
     ]
    }
   ],
   "source": [
    "df.info()"
   ]
  },
  {
   "cell_type": "code",
   "execution_count": 4,
   "id": "racial-audit",
   "metadata": {},
   "outputs": [
    {
     "data": {
      "text/html": [
       "<div>\n",
       "<style scoped>\n",
       "    .dataframe tbody tr th:only-of-type {\n",
       "        vertical-align: middle;\n",
       "    }\n",
       "\n",
       "    .dataframe tbody tr th {\n",
       "        vertical-align: top;\n",
       "    }\n",
       "\n",
       "    .dataframe thead th {\n",
       "        text-align: right;\n",
       "    }\n",
       "</style>\n",
       "<table border=\"1\" class=\"dataframe\">\n",
       "  <thead>\n",
       "    <tr style=\"text-align: right;\">\n",
       "      <th></th>\n",
       "      <th>Unnamed: 0</th>\n",
       "      <th>RespId</th>\n",
       "      <th>weight</th>\n",
       "      <th>Q2_1</th>\n",
       "      <th>Q2_2</th>\n",
       "      <th>Q2_3</th>\n",
       "      <th>Q2_4</th>\n",
       "      <th>Q2_5</th>\n",
       "      <th>Q2_6</th>\n",
       "      <th>Q2_7</th>\n",
       "      <th>...</th>\n",
       "      <th>Q30</th>\n",
       "      <th>Q31</th>\n",
       "      <th>Q32</th>\n",
       "      <th>Q33</th>\n",
       "      <th>ppage</th>\n",
       "      <th>educ</th>\n",
       "      <th>race</th>\n",
       "      <th>gender</th>\n",
       "      <th>income_cat</th>\n",
       "      <th>voter_category</th>\n",
       "    </tr>\n",
       "  </thead>\n",
       "  <tbody>\n",
       "    <tr>\n",
       "      <th>0</th>\n",
       "      <td>0</td>\n",
       "      <td>470001</td>\n",
       "      <td>0.7516</td>\n",
       "      <td>1</td>\n",
       "      <td>1</td>\n",
       "      <td>2</td>\n",
       "      <td>4</td>\n",
       "      <td>1</td>\n",
       "      <td>4</td>\n",
       "      <td>2</td>\n",
       "      <td>...</td>\n",
       "      <td>2</td>\n",
       "      <td>NaN</td>\n",
       "      <td>1.0</td>\n",
       "      <td>NaN</td>\n",
       "      <td>73</td>\n",
       "      <td>College</td>\n",
       "      <td>White</td>\n",
       "      <td>Female</td>\n",
       "      <td>$75-125k</td>\n",
       "      <td>always</td>\n",
       "    </tr>\n",
       "    <tr>\n",
       "      <th>1</th>\n",
       "      <td>1</td>\n",
       "      <td>470002</td>\n",
       "      <td>1.0267</td>\n",
       "      <td>1</td>\n",
       "      <td>2</td>\n",
       "      <td>2</td>\n",
       "      <td>3</td>\n",
       "      <td>1</td>\n",
       "      <td>1</td>\n",
       "      <td>2</td>\n",
       "      <td>...</td>\n",
       "      <td>3</td>\n",
       "      <td>NaN</td>\n",
       "      <td>NaN</td>\n",
       "      <td>1.0</td>\n",
       "      <td>90</td>\n",
       "      <td>College</td>\n",
       "      <td>White</td>\n",
       "      <td>Female</td>\n",
       "      <td>$125k or more</td>\n",
       "      <td>always</td>\n",
       "    </tr>\n",
       "    <tr>\n",
       "      <th>2</th>\n",
       "      <td>2</td>\n",
       "      <td>470003</td>\n",
       "      <td>1.0844</td>\n",
       "      <td>1</td>\n",
       "      <td>1</td>\n",
       "      <td>2</td>\n",
       "      <td>2</td>\n",
       "      <td>1</td>\n",
       "      <td>1</td>\n",
       "      <td>2</td>\n",
       "      <td>...</td>\n",
       "      <td>2</td>\n",
       "      <td>NaN</td>\n",
       "      <td>2.0</td>\n",
       "      <td>NaN</td>\n",
       "      <td>53</td>\n",
       "      <td>College</td>\n",
       "      <td>White</td>\n",
       "      <td>Male</td>\n",
       "      <td>$125k or more</td>\n",
       "      <td>sporadic</td>\n",
       "    </tr>\n",
       "    <tr>\n",
       "      <th>3</th>\n",
       "      <td>3</td>\n",
       "      <td>470007</td>\n",
       "      <td>0.6817</td>\n",
       "      <td>1</td>\n",
       "      <td>1</td>\n",
       "      <td>1</td>\n",
       "      <td>3</td>\n",
       "      <td>1</td>\n",
       "      <td>1</td>\n",
       "      <td>1</td>\n",
       "      <td>...</td>\n",
       "      <td>2</td>\n",
       "      <td>NaN</td>\n",
       "      <td>1.0</td>\n",
       "      <td>NaN</td>\n",
       "      <td>58</td>\n",
       "      <td>Some college</td>\n",
       "      <td>Black</td>\n",
       "      <td>Female</td>\n",
       "      <td>$40-75k</td>\n",
       "      <td>sporadic</td>\n",
       "    </tr>\n",
       "    <tr>\n",
       "      <th>4</th>\n",
       "      <td>4</td>\n",
       "      <td>480008</td>\n",
       "      <td>0.9910</td>\n",
       "      <td>1</td>\n",
       "      <td>1</td>\n",
       "      <td>-1</td>\n",
       "      <td>1</td>\n",
       "      <td>1</td>\n",
       "      <td>1</td>\n",
       "      <td>1</td>\n",
       "      <td>...</td>\n",
       "      <td>1</td>\n",
       "      <td>-1.0</td>\n",
       "      <td>NaN</td>\n",
       "      <td>NaN</td>\n",
       "      <td>81</td>\n",
       "      <td>High school or less</td>\n",
       "      <td>White</td>\n",
       "      <td>Male</td>\n",
       "      <td>$40-75k</td>\n",
       "      <td>always</td>\n",
       "    </tr>\n",
       "  </tbody>\n",
       "</table>\n",
       "<p>5 rows × 119 columns</p>\n",
       "</div>"
      ],
      "text/plain": [
       "   Unnamed: 0  RespId  weight  Q2_1  Q2_2  Q2_3  Q2_4  Q2_5  Q2_6  Q2_7  ...  \\\n",
       "0           0  470001  0.7516     1     1     2     4     1     4     2  ...   \n",
       "1           1  470002  1.0267     1     2     2     3     1     1     2  ...   \n",
       "2           2  470003  1.0844     1     1     2     2     1     1     2  ...   \n",
       "3           3  470007  0.6817     1     1     1     3     1     1     1  ...   \n",
       "4           4  480008  0.9910     1     1    -1     1     1     1     1  ...   \n",
       "\n",
       "   Q30  Q31  Q32  Q33  ppage                 educ   race  gender  \\\n",
       "0    2  NaN  1.0  NaN     73              College  White  Female   \n",
       "1    3  NaN  NaN  1.0     90              College  White  Female   \n",
       "2    2  NaN  2.0  NaN     53              College  White    Male   \n",
       "3    2  NaN  1.0  NaN     58         Some college  Black  Female   \n",
       "4    1 -1.0  NaN  NaN     81  High school or less  White    Male   \n",
       "\n",
       "      income_cat  voter_category  \n",
       "0       $75-125k          always  \n",
       "1  $125k or more          always  \n",
       "2  $125k or more        sporadic  \n",
       "3        $40-75k        sporadic  \n",
       "4        $40-75k          always  \n",
       "\n",
       "[5 rows x 119 columns]"
      ]
     },
     "execution_count": 4,
     "metadata": {},
     "output_type": "execute_result"
    }
   ],
   "source": [
    "df.head()"
   ]
  },
  {
   "cell_type": "markdown",
   "id": "worth-travel",
   "metadata": {},
   "source": [
    "## 3.5 Drop Unused Columns<a id='3.5_DropColumns'> </a>"
   ]
  },
  {
   "cell_type": "code",
   "execution_count": 5,
   "id": "simple-function",
   "metadata": {},
   "outputs": [
    {
     "data": {
      "text/plain": [
       "Index(['Q2_1', 'Q2_2', 'Q2_3', 'Q2_4', 'Q2_5', 'Q2_6', 'Q2_7', 'Q2_8', 'Q2_9',\n",
       "       'Q2_10',\n",
       "       ...\n",
       "       'Q30', 'Q31', 'Q32', 'Q33', 'ppage', 'educ', 'race', 'gender',\n",
       "       'income_cat', 'voter_category'],\n",
       "      dtype='object', length=116)"
      ]
     },
     "execution_count": 5,
     "metadata": {},
     "output_type": "execute_result"
    }
   ],
   "source": [
    "df = df.drop(['Unnamed: 0', 'RespId', 'weight'], axis=1)\n",
    "df.columns"
   ]
  },
  {
   "cell_type": "markdown",
   "id": "mathematical-radar",
   "metadata": {},
   "source": [
    "## 3.6 Create Age Categories<a id='3.6_age_categories'> </a>"
   ]
  },
  {
   "cell_type": "code",
   "execution_count": 6,
   "id": "equivalent-fraction",
   "metadata": {},
   "outputs": [
    {
     "data": {
      "image/png": "[encoded data removed]",
      "text/plain": [
       "<Figure size 432x288 with 1 Axes>"
      ]
     },
     "metadata": {
      "needs_background": "light"
     },
     "output_type": "display_data"
    }
   ],
   "source": [
    "df.ppage.hist()\n",
    "plt.show()\n"
   ]
  },
  {
   "cell_type": "code",
   "execution_count": 7,
   "id": "declared-sunday",
   "metadata": {},
   "outputs": [],
   "source": [
    "# Create age categories in df\n",
    "\n",
    "df = df.astype({'ppage':'int64'})\n",
    "for i in range(len(df['ppage'])):\n",
    "    if df.loc[i,'ppage']>=18 and df.loc[i,'ppage']<=25:\n",
    "        df.loc[i,'age']='18-25'\n",
    "    elif df.loc[i,'ppage']<=35:\n",
    "        df.loc[i,'age']='26-35'\n",
    "    elif df.loc[i,'ppage']<=45:\n",
    "        df.loc[i,'age']='36-45'\n",
    "    elif df.loc[i,'ppage']<=55:\n",
    "        df.loc[i,'age']='46-55'\n",
    "    elif df.loc[i,'ppage']<=65:\n",
    "        df.loc[i,'age']='56-65'\n",
    "    else:\n",
    "        df.loc[i,'age']='66+'\n",
    "df = df.drop(['ppage'],axis=1).astype(object)"
   ]
  },
  {
   "cell_type": "code",
   "execution_count": 8,
   "id": "passing-northern",
   "metadata": {},
   "outputs": [
    {
     "data": {
      "text/plain": [
       "Index(['Q2_1', 'Q2_2', 'Q2_3', 'Q2_4', 'Q2_5', 'Q2_6', 'Q2_7', 'Q2_8', 'Q2_9',\n",
       "       'Q2_10',\n",
       "       ...\n",
       "       'Q30', 'Q31', 'Q32', 'Q33', 'educ', 'race', 'gender', 'income_cat',\n",
       "       'voter_category', 'age'],\n",
       "      dtype='object', length=116)"
      ]
     },
     "execution_count": 8,
     "metadata": {},
     "output_type": "execute_result"
    }
   ],
   "source": [
    "df.columns"
   ]
  },
  {
   "cell_type": "markdown",
   "id": "union-ordinance",
   "metadata": {},
   "source": [
    "## 3.7 Make Dummy Variables<a id='3.7_MakeDummies'> </a>"
   ]
  },
  {
   "cell_type": "code",
   "execution_count": 9,
   "id": "chinese-plaza",
   "metadata": {},
   "outputs": [],
   "source": [
    "df_dum = pd.get_dummies(df, drop_first=True)"
   ]
  },
  {
   "cell_type": "code",
   "execution_count": 10,
   "id": "related-junction",
   "metadata": {},
   "outputs": [
    {
     "data": {
      "text/plain": [
       "Q2_1              object\n",
       "Q2_2              object\n",
       "Q2_3              object\n",
       "Q2_4              object\n",
       "Q2_5              object\n",
       "                   ...  \n",
       "race              object\n",
       "gender            object\n",
       "income_cat        object\n",
       "voter_category    object\n",
       "age               object\n",
       "Length: 116, dtype: object"
      ]
     },
     "execution_count": 10,
     "metadata": {},
     "output_type": "execute_result"
    }
   ],
   "source": [
    "df.dtypes"
   ]
  },
  {
   "cell_type": "code",
   "execution_count": 11,
   "id": "meaningful-planning",
   "metadata": {},
   "outputs": [
    {
     "data": {
      "text/html": [
       "<div>\n",
       "<style scoped>\n",
       "    .dataframe tbody tr th:only-of-type {\n",
       "        vertical-align: middle;\n",
       "    }\n",
       "\n",
       "    .dataframe tbody tr th {\n",
       "        vertical-align: top;\n",
       "    }\n",
       "\n",
       "    .dataframe thead th {\n",
       "        text-align: right;\n",
       "    }\n",
       "</style>\n",
       "<table border=\"1\" class=\"dataframe\">\n",
       "  <thead>\n",
       "    <tr style=\"text-align: right;\">\n",
       "      <th></th>\n",
       "      <th>Q2_1_1</th>\n",
       "      <th>Q2_1_2</th>\n",
       "      <th>Q2_1_3</th>\n",
       "      <th>Q2_1_4</th>\n",
       "      <th>Q2_2_1</th>\n",
       "      <th>Q2_2_2</th>\n",
       "      <th>Q2_2_3</th>\n",
       "      <th>Q2_2_4</th>\n",
       "      <th>Q2_3_1</th>\n",
       "      <th>Q2_3_2</th>\n",
       "      <th>...</th>\n",
       "      <th>income_cat_$40-75k</th>\n",
       "      <th>income_cat_$75-125k</th>\n",
       "      <th>income_cat_Less than $40k</th>\n",
       "      <th>voter_category_rarely/never</th>\n",
       "      <th>voter_category_sporadic</th>\n",
       "      <th>age_26-35</th>\n",
       "      <th>age_36-45</th>\n",
       "      <th>age_46-55</th>\n",
       "      <th>age_56-65</th>\n",
       "      <th>age_66+</th>\n",
       "    </tr>\n",
       "  </thead>\n",
       "  <tbody>\n",
       "    <tr>\n",
       "      <th>0</th>\n",
       "      <td>1</td>\n",
       "      <td>0</td>\n",
       "      <td>0</td>\n",
       "      <td>0</td>\n",
       "      <td>1</td>\n",
       "      <td>0</td>\n",
       "      <td>0</td>\n",
       "      <td>0</td>\n",
       "      <td>0</td>\n",
       "      <td>1</td>\n",
       "      <td>...</td>\n",
       "      <td>0</td>\n",
       "      <td>1</td>\n",
       "      <td>0</td>\n",
       "      <td>0</td>\n",
       "      <td>0</td>\n",
       "      <td>0</td>\n",
       "      <td>0</td>\n",
       "      <td>0</td>\n",
       "      <td>0</td>\n",
       "      <td>1</td>\n",
       "    </tr>\n",
       "    <tr>\n",
       "      <th>1</th>\n",
       "      <td>1</td>\n",
       "      <td>0</td>\n",
       "      <td>0</td>\n",
       "      <td>0</td>\n",
       "      <td>0</td>\n",
       "      <td>1</td>\n",
       "      <td>0</td>\n",
       "      <td>0</td>\n",
       "      <td>0</td>\n",
       "      <td>1</td>\n",
       "      <td>...</td>\n",
       "      <td>0</td>\n",
       "      <td>0</td>\n",
       "      <td>0</td>\n",
       "      <td>0</td>\n",
       "      <td>0</td>\n",
       "      <td>0</td>\n",
       "      <td>0</td>\n",
       "      <td>0</td>\n",
       "      <td>0</td>\n",
       "      <td>1</td>\n",
       "    </tr>\n",
       "    <tr>\n",
       "      <th>2</th>\n",
       "      <td>1</td>\n",
       "      <td>0</td>\n",
       "      <td>0</td>\n",
       "      <td>0</td>\n",
       "      <td>1</td>\n",
       "      <td>0</td>\n",
       "      <td>0</td>\n",
       "      <td>0</td>\n",
       "      <td>0</td>\n",
       "      <td>1</td>\n",
       "      <td>...</td>\n",
       "      <td>0</td>\n",
       "      <td>0</td>\n",
       "      <td>0</td>\n",
       "      <td>0</td>\n",
       "      <td>1</td>\n",
       "      <td>0</td>\n",
       "      <td>0</td>\n",
       "      <td>1</td>\n",
       "      <td>0</td>\n",
       "      <td>0</td>\n",
       "    </tr>\n",
       "    <tr>\n",
       "      <th>3</th>\n",
       "      <td>1</td>\n",
       "      <td>0</td>\n",
       "      <td>0</td>\n",
       "      <td>0</td>\n",
       "      <td>1</td>\n",
       "      <td>0</td>\n",
       "      <td>0</td>\n",
       "      <td>0</td>\n",
       "      <td>1</td>\n",
       "      <td>0</td>\n",
       "      <td>...</td>\n",
       "      <td>1</td>\n",
       "      <td>0</td>\n",
       "      <td>0</td>\n",
       "      <td>0</td>\n",
       "      <td>1</td>\n",
       "      <td>0</td>\n",
       "      <td>0</td>\n",
       "      <td>0</td>\n",
       "      <td>1</td>\n",
       "      <td>0</td>\n",
       "    </tr>\n",
       "    <tr>\n",
       "      <th>4</th>\n",
       "      <td>1</td>\n",
       "      <td>0</td>\n",
       "      <td>0</td>\n",
       "      <td>0</td>\n",
       "      <td>1</td>\n",
       "      <td>0</td>\n",
       "      <td>0</td>\n",
       "      <td>0</td>\n",
       "      <td>0</td>\n",
       "      <td>0</td>\n",
       "      <td>...</td>\n",
       "      <td>1</td>\n",
       "      <td>0</td>\n",
       "      <td>0</td>\n",
       "      <td>0</td>\n",
       "      <td>0</td>\n",
       "      <td>0</td>\n",
       "      <td>0</td>\n",
       "      <td>0</td>\n",
       "      <td>0</td>\n",
       "      <td>1</td>\n",
       "    </tr>\n",
       "  </tbody>\n",
       "</table>\n",
       "<p>5 rows × 312 columns</p>\n",
       "</div>"
      ],
      "text/plain": [
       "   Q2_1_1  Q2_1_2  Q2_1_3  Q2_1_4  Q2_2_1  Q2_2_2  Q2_2_3  Q2_2_4  Q2_3_1  \\\n",
       "0       1       0       0       0       1       0       0       0       0   \n",
       "1       1       0       0       0       0       1       0       0       0   \n",
       "2       1       0       0       0       1       0       0       0       0   \n",
       "3       1       0       0       0       1       0       0       0       1   \n",
       "4       1       0       0       0       1       0       0       0       0   \n",
       "\n",
       "   Q2_3_2  ...  income_cat_$40-75k  income_cat_$75-125k  \\\n",
       "0       1  ...                   0                    1   \n",
       "1       1  ...                   0                    0   \n",
       "2       1  ...                   0                    0   \n",
       "3       0  ...                   1                    0   \n",
       "4       0  ...                   1                    0   \n",
       "\n",
       "   income_cat_Less than $40k  voter_category_rarely/never  \\\n",
       "0                          0                            0   \n",
       "1                          0                            0   \n",
       "2                          0                            0   \n",
       "3                          0                            0   \n",
       "4                          0                            0   \n",
       "\n",
       "   voter_category_sporadic  age_26-35  age_36-45  age_46-55  age_56-65  \\\n",
       "0                        0          0          0          0          0   \n",
       "1                        0          0          0          0          0   \n",
       "2                        1          0          0          1          0   \n",
       "3                        1          0          0          0          1   \n",
       "4                        0          0          0          0          0   \n",
       "\n",
       "   age_66+  \n",
       "0        1  \n",
       "1        1  \n",
       "2        0  \n",
       "3        0  \n",
       "4        1  \n",
       "\n",
       "[5 rows x 312 columns]"
      ]
     },
     "execution_count": 11,
     "metadata": {},
     "output_type": "execute_result"
    }
   ],
   "source": [
    "df_dum.head()"
   ]
  },
  {
   "cell_type": "code",
   "execution_count": 12,
   "id": "duplicate-tenant",
   "metadata": {},
   "outputs": [
    {
     "data": {
      "text/html": [
       "<div>\n",
       "<style scoped>\n",
       "    .dataframe tbody tr th:only-of-type {\n",
       "        vertical-align: middle;\n",
       "    }\n",
       "\n",
       "    .dataframe tbody tr th {\n",
       "        vertical-align: top;\n",
       "    }\n",
       "\n",
       "    .dataframe thead th {\n",
       "        text-align: right;\n",
       "    }\n",
       "</style>\n",
       "<table border=\"1\" class=\"dataframe\">\n",
       "  <thead>\n",
       "    <tr style=\"text-align: right;\">\n",
       "      <th></th>\n",
       "      <th>Q2_1_1</th>\n",
       "      <th>Q2_1_2</th>\n",
       "      <th>Q2_1_3</th>\n",
       "      <th>Q2_1_4</th>\n",
       "      <th>Q2_2_1</th>\n",
       "      <th>Q2_2_2</th>\n",
       "      <th>Q2_2_3</th>\n",
       "      <th>Q2_2_4</th>\n",
       "      <th>Q2_3_1</th>\n",
       "      <th>Q2_3_2</th>\n",
       "      <th>...</th>\n",
       "      <th>income_cat_$40-75k</th>\n",
       "      <th>income_cat_$75-125k</th>\n",
       "      <th>income_cat_Less than $40k</th>\n",
       "      <th>voter_category_rarely/never</th>\n",
       "      <th>voter_category_sporadic</th>\n",
       "      <th>age_26-35</th>\n",
       "      <th>age_36-45</th>\n",
       "      <th>age_46-55</th>\n",
       "      <th>age_56-65</th>\n",
       "      <th>age_66+</th>\n",
       "    </tr>\n",
       "  </thead>\n",
       "  <tbody>\n",
       "  </tbody>\n",
       "</table>\n",
       "<p>0 rows × 312 columns</p>\n",
       "</div>"
      ],
      "text/plain": [
       "Empty DataFrame\n",
       "Columns: [Q2_1_1, Q2_1_2, Q2_1_3, Q2_1_4, Q2_2_1, Q2_2_2, Q2_2_3, Q2_2_4, Q2_3_1, Q2_3_2, Q2_3_3, Q2_3_4, Q2_4_1, Q2_4_2, Q2_4_3, Q2_4_4, Q2_5_1, Q2_5_2, Q2_5_3, Q2_5_4, Q2_6_1, Q2_6_2, Q2_6_3, Q2_6_4, Q2_7_1, Q2_7_2, Q2_7_3, Q2_7_4, Q2_8_1, Q2_8_2, Q2_8_3, Q2_8_4, Q2_9_1, Q2_9_2, Q2_9_3, Q2_9_4, Q2_10_1, Q2_10_2, Q2_10_3, Q2_10_4, Q3_1_1, Q3_1_2, Q3_1_3, Q3_1_4, Q3_2_1, Q3_2_2, Q3_2_3, Q3_2_4, Q3_3_1, Q3_3_2, Q3_3_3, Q3_3_4, Q3_4_1, Q3_4_2, Q3_4_3, Q3_4_4, Q3_5_1, Q3_5_2, Q3_5_3, Q3_5_4, Q3_6_1, Q3_6_2, Q3_6_3, Q3_6_4, Q4_1_1, Q4_1_2, Q4_1_3, Q4_1_4, Q4_2_1, Q4_2_2, Q4_2_3, Q4_2_4, Q4_3_1, Q4_3_2, Q4_3_3, Q4_3_4, Q4_4_1, Q4_4_2, Q4_4_3, Q4_4_4, Q4_5_1, Q4_5_2, Q4_5_3, Q4_5_4, Q4_6_1, Q4_6_2, Q4_6_3, Q4_6_4, Q5_1, Q5_2, Q6_1, Q6_2, Q6_3, Q6_4, Q7_1, Q7_2, Q8_1_1, Q8_1_2, Q8_1_3, Q8_1_4, ...]\n",
       "Index: []\n",
       "\n",
       "[0 rows x 312 columns]"
      ]
     },
     "execution_count": 12,
     "metadata": {},
     "output_type": "execute_result"
    }
   ],
   "source": [
    "# check for duplicate rows\n",
    "duplicateRowsDF = df_dum[df_dum.duplicated()]\n",
    "duplicateRowsDF"
   ]
  },
  {
   "cell_type": "markdown",
   "id": "heard-comparative",
   "metadata": {},
   "source": [
    "## 3.8 Train/Test Split<a id='3.8_Train/Test_Split'> </a>"
   ]
  },
  {
   "cell_type": "code",
   "execution_count": 13,
   "id": "educational-institution",
   "metadata": {},
   "outputs": [],
   "source": [
    "from sklearn.model_selection import train_test_split"
   ]
  },
  {
   "cell_type": "code",
   "execution_count": 14,
   "id": "graphic-circuit",
   "metadata": {},
   "outputs": [
    {
     "data": {
      "text/plain": [
       "(4668, 310)"
      ]
     },
     "execution_count": 14,
     "metadata": {},
     "output_type": "execute_result"
    }
   ],
   "source": [
    "# make X and y from df_dum\n",
    "\n",
    "X = df_dum.drop(['voter_category_sporadic','voter_category_rarely/never'], axis=1)\n",
    "y = df_dum['voter_category_rarely/never']\n",
    "\n",
    "# train test split using sklearn\n",
    "X_train, X_test, y_train, y_test = train_test_split(X, y, test_size=.2, random_state=1)\n",
    "X_train.shape"
   ]
  }
 ],
 "metadata": {
  "kernelspec": {
   "display_name": "Python 3",
   "language": "python",
   "name": "python3"
  },
  "language_info": {
   "codemirror_mode": {
    "name": "ipython",
    "version": 3
   },
   "file_extension": ".py",
   "mimetype": "text/x-python",
   "name": "python",
   "nbconvert_exporter": "python",
   "pygments_lexer": "ipython3",
   "version": "3.9.2"
  }
 },
 "nbformat": 4,
 "nbformat_minor": 5
}
