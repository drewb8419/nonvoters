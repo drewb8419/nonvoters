{
 "cells": [
  {
   "cell_type": "code",
   "execution_count": 1,
   "id": "alternate-legislation",
   "metadata": {},
   "outputs": [],
   "source": [
    "import pandas as pd"
   ]
  },
  {
   "cell_type": "code",
   "execution_count": 2,
   "id": "corresponding-possible",
   "metadata": {},
   "outputs": [],
   "source": [
    "df = pd.DataFrame({'A':[1,1,2,2,3],'B':[1,1,2,2,3],'C':[4,4,1,1,2]})\n",
    "df                   "
   ]
  },
  {
   "cell_type": "code",
   "execution_count": 3,
   "id": "gothic-visit",
   "metadata": {},
   "outputs": [],
   "source": [
    "df.corr()"
   ]
  },
  {
   "cell_type": "code",
   "execution_count": 4,
   "id": "fitting-binding",
   "metadata": {},
   "outputs": [],
   "source": [
    "df_dum = pd.get_dummies(df, columns=['A','B','C'],drop_first=False)\n",
    "df_dum"
   ]
  },
  {
   "cell_type": "code",
   "execution_count": 5,
   "id": "joined-scottish",
   "metadata": {},
   "outputs": [],
   "source": [
    "df_dum.corr()"
   ]
  }
 ],
 "metadata": {
  "kernelspec": {
   "display_name": "Python 3",
   "language": "python",
   "name": "python3"
  },
  "language_info": {
   "codemirror_mode": {
    "name": "ipython",
    "version": 3
   },
   "file_extension": ".py",
   "mimetype": "text/x-python",
   "name": "python",
   "nbconvert_exporter": "python",
   "pygments_lexer": "ipython3",
   "version": "3.8.8"
  }
 },
 "nbformat": 4,
 "nbformat_minor": 5
}
